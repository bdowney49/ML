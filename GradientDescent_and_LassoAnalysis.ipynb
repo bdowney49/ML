{
 "cells": [
  {
   "cell_type": "code",
   "execution_count": null,
   "id": "b9487d3f",
   "metadata": {},
   "outputs": [],
   "source": [
    "'''\n",
    "Conceptual Assignment 3\n",
    "EEP596 - Advanced Introduction to Machine Learning\n",
    "Problems 5 & 6\n",
    "\n",
    "Blake Downey\n",
    "1.30.2022\n",
    "'''"
   ]
  },
  {
   "cell_type": "code",
   "execution_count": 7,
   "id": "5bf60469",
   "metadata": {},
   "outputs": [],
   "source": [
    "# imports\n",
    "import numpy as np\n",
    "import matplotlib\n",
    "import matplotlib.pyplot as plt\n",
    "import math"
   ]
  },
  {
   "cell_type": "code",
   "execution_count": 16,
   "id": "02c5c89a",
   "metadata": {},
   "outputs": [],
   "source": [
    "# Helper functions for number 5\n",
    "\n",
    "# Calculate the loss\n",
    "def calc_loss(X_,y_,w_):\n",
    "    # 1/N * (l2(Xw-y) + lambda*l2(w))\n",
    "    a = np.sqrt(np.sum(np.power((np.dot(X_,w_) - y_),2))) # root (sum ( (Xw - y)**2 ))\n",
    "    b = lambda_ * np.sqrt(np.sum(np.power((w_),2))) # lambda * l2 norm of w\n",
    "    return (a + b)/N\n",
    "\n",
    "# Calculate gradient\n",
    "def gradient(X_,y_,w_):\n",
    "    # 1/N( X^T (Xw - y) + 2 * lambda * w)\n",
    "    a = (np.dot(X_,w_) - y_) # Xw - y\n",
    "    b = np.dot(X_.T, a) # X^T (Xw - y)\n",
    "    ridge = 2*(lambda_)*w_ # 2 * lambda * w\n",
    "    return (b + ridge)/N\n",
    "\n",
    "# Analytical Solution\n",
    "def analytical(X_,y_):\n",
    "    # (X^TX + lambda*Id)^(-1) * X^T * y\n",
    "    eye_d = np.identity(d) # create identity matrix of feature size d\n",
    "    xTx = np.dot(X_.T,X_) + lambda_*eye_d # X^TX + lambda*Id\n",
    "    inv = np.linalg.inv(xTx) # inverse computation\n",
    "    inv_xT = np.dot(inv, X_.T) # inv * X^T\n",
    "    return np.dot(inv_xT, y_) # * y\n",
    "\n",
    "# Calculate relative error\n",
    "def rel_err(w_anal, w_conv):\n",
    "    # l2 norm (conv - anal) / l2 norm (anal)\n",
    "    numer = np.sqrt(np.sum((w_conv-w_anal)**2))\n",
    "    denom = np.sqrt(np.sum((w_anal)**2))\n",
    "    return numer/denom"
   ]
  },
  {
   "cell_type": "code",
   "execution_count": 49,
   "id": "22bf3227",
   "metadata": {},
   "outputs": [
    {
     "name": "stdout",
     "output_type": "stream",
     "text": [
      "0th iteration,\t  Threshold:  0.30653,\t   Loss:  0.43512\n",
      "1th iteration,\t  Threshold:  0.27709,\t   Loss:  0.36109\n",
      "2th iteration,\t  Threshold:  0.23240,\t   Loss:  0.30359\n",
      "3th iteration,\t  Threshold:  0.18387,\t   Loss:  0.25837\n",
      "4th iteration,\t  Threshold:  0.14278,\t   Loss:  0.22230\n",
      "5th iteration,\t  Threshold:  0.11161,\t   Loss:  0.19316\n",
      "6th iteration,\t  Threshold:  0.08907,\t   Loss:  0.16929\n",
      "7th iteration,\t  Threshold:  0.07242,\t   Loss:  0.14950\n",
      "8th iteration,\t  Threshold:  0.05979,\t   Loss:  0.13289\n",
      "9th iteration,\t  Threshold:  0.05006,\t   Loss:  0.11879\n",
      "10th iteration,\t  Threshold:  0.04245,\t   Loss:  0.10672\n",
      "11th iteration,\t  Threshold:  0.03639,\t   Loss:  0.09628\n",
      "12th iteration,\t  Threshold:  0.03153,\t   Loss:  0.08720\n",
      "13th iteration,\t  Threshold:  0.02754,\t   Loss:  0.07922\n",
      "14th iteration,\t  Threshold:  0.02423,\t   Loss:  0.07219\n",
      "15th iteration,\t  Threshold:  0.02145,\t   Loss:  0.06594\n",
      "16th iteration,\t  Threshold:  0.01910,\t   Loss:  0.06038\n",
      "17th iteration,\t  Threshold:  0.01709,\t   Loss:  0.05539\n",
      "18th iteration,\t  Threshold:  0.01535,\t   Loss:  0.05091\n",
      "19th iteration,\t  Threshold:  0.01383,\t   Loss:  0.04687\n",
      "20th iteration,\t  Threshold:  0.01250,\t   Loss:  0.04321\n",
      "21th iteration,\t  Threshold:  0.01134,\t   Loss:  0.03990\n",
      "22th iteration,\t  Threshold:  0.01031,\t   Loss:  0.03688\n",
      "23th iteration,\t  Threshold:  0.00940,\t   Loss:  0.03413\n",
      "24th iteration,\t  Threshold:  0.00859,\t   Loss:  0.03162\n",
      "25th iteration,\t  Threshold:  0.00786,\t   Loss:  0.02932\n",
      "26th iteration,\t  Threshold:  0.00720,\t   Loss:  0.02721\n",
      "27th iteration,\t  Threshold:  0.00661,\t   Loss:  0.02528\n",
      "28th iteration,\t  Threshold:  0.00608,\t   Loss:  0.02350\n",
      "29th iteration,\t  Threshold:  0.00561,\t   Loss:  0.02186\n",
      "30th iteration,\t  Threshold:  0.00517,\t   Loss:  0.02035\n",
      "31th iteration,\t  Threshold:  0.00478,\t   Loss:  0.01895\n",
      "32th iteration,\t  Threshold:  0.00442,\t   Loss:  0.01767\n",
      "33th iteration,\t  Threshold:  0.00410,\t   Loss:  0.01648\n",
      "34th iteration,\t  Threshold:  0.00380,\t   Loss:  0.01537\n",
      "35th iteration,\t  Threshold:  0.00352,\t   Loss:  0.01435\n",
      "36th iteration,\t  Threshold:  0.00327,\t   Loss:  0.01340\n",
      "37th iteration,\t  Threshold:  0.00304,\t   Loss:  0.01253\n",
      "38th iteration,\t  Threshold:  0.00283,\t   Loss:  0.01171\n",
      "39th iteration,\t  Threshold:  0.00263,\t   Loss:  0.01095\n",
      "40th iteration,\t  Threshold:  0.00245,\t   Loss:  0.01025\n",
      "41th iteration,\t  Threshold:  0.00229,\t   Loss:  0.00959\n",
      "42th iteration,\t  Threshold:  0.00213,\t   Loss:  0.00898\n",
      "43th iteration,\t  Threshold:  0.00199,\t   Loss:  0.00841\n",
      "44th iteration,\t  Threshold:  0.00186,\t   Loss:  0.00788\n",
      "45th iteration,\t  Threshold:  0.00173,\t   Loss:  0.00739\n",
      "46th iteration,\t  Threshold:  0.00162,\t   Loss:  0.00693\n",
      "47th iteration,\t  Threshold:  0.00151,\t   Loss:  0.00649\n",
      "48th iteration,\t  Threshold:  0.00141,\t   Loss:  0.00609\n",
      "49th iteration,\t  Threshold:  0.00132,\t   Loss:  0.00572\n",
      "50th iteration,\t  Threshold:  0.00124,\t   Loss:  0.00537\n",
      "51th iteration,\t  Threshold:  0.00116,\t   Loss:  0.00504\n",
      "52th iteration,\t  Threshold:  0.00109,\t   Loss:  0.00473\n",
      "53th iteration,\t  Threshold:  0.00102,\t   Loss:  0.00444\n",
      "54th iteration,\t  Threshold:  0.00095,\t   Loss:  0.00418\n",
      "55th iteration,\t  Threshold:  0.00089,\t   Loss:  0.00392\n",
      "56th iteration,\t  Threshold:  0.00084,\t   Loss:  0.00369\n",
      "57th iteration,\t  Threshold:  0.00079,\t   Loss:  0.00347\n",
      "58th iteration,\t  Threshold:  0.00074,\t   Loss:  0.00326\n",
      "59th iteration,\t  Threshold:  0.00069,\t   Loss:  0.00307\n",
      "60th iteration,\t  Threshold:  0.00065,\t   Loss:  0.00288\n",
      "61th iteration,\t  Threshold:  0.00061,\t   Loss:  0.00271\n",
      "62th iteration,\t  Threshold:  0.00057,\t   Loss:  0.00255\n",
      "63th iteration,\t  Threshold:  0.00054,\t   Loss:  0.00240\n",
      "64th iteration,\t  Threshold:  0.00051,\t   Loss:  0.00226\n",
      "65th iteration,\t  Threshold:  0.00048,\t   Loss:  0.00213\n",
      "66th iteration,\t  Threshold:  0.00045,\t   Loss:  0.00201\n",
      "67th iteration,\t  Threshold:  0.00042,\t   Loss:  0.00189\n",
      "68th iteration,\t  Threshold:  0.00040,\t   Loss:  0.00178\n",
      "69th iteration,\t  Threshold:  0.00037,\t   Loss:  0.00168\n",
      "70th iteration,\t  Threshold:  0.00035,\t   Loss:  0.00158\n",
      "71th iteration,\t  Threshold:  0.00033,\t   Loss:  0.00149\n",
      "72th iteration,\t  Threshold:  0.00031,\t   Loss:  0.00140\n",
      "73th iteration,\t  Threshold:  0.00029,\t   Loss:  0.00132\n",
      "74th iteration,\t  Threshold:  0.00027,\t   Loss:  0.00125\n",
      "75th iteration,\t  Threshold:  0.00026,\t   Loss:  0.00118\n",
      "76th iteration,\t  Threshold:  0.00024,\t   Loss:  0.00111\n",
      "77th iteration,\t  Threshold:  0.00023,\t   Loss:  0.00105\n",
      "78th iteration,\t  Threshold:  0.00022,\t   Loss:  0.00099\n",
      "79th iteration,\t  Threshold:  0.00020,\t   Loss:  0.00093\n",
      "80th iteration,\t  Threshold:  0.00019,\t   Loss:  0.00088\n",
      "81th iteration,\t  Threshold:  0.00018,\t   Loss:  0.00083\n",
      "82th iteration,\t  Threshold:  0.00017,\t   Loss:  0.00078\n",
      "83th iteration,\t  Threshold:  0.00016,\t   Loss:  0.00074\n",
      "84th iteration,\t  Threshold:  0.00015,\t   Loss:  0.00070\n",
      "85th iteration,\t  Threshold:  0.00014,\t   Loss:  0.00066\n",
      "86th iteration,\t  Threshold:  0.00013,\t   Loss:  0.00062\n",
      "87th iteration,\t  Threshold:  0.00013,\t   Loss:  0.00059\n",
      "88th iteration,\t  Threshold:  0.00012,\t   Loss:  0.00056\n",
      "89th iteration,\t  Threshold:  0.00011,\t   Loss:  0.00052\n",
      "90th iteration,\t  Threshold:  0.00011,\t   Loss:  0.00050\n",
      "91th iteration,\t  Threshold:  0.00010,\t   Loss:  0.00047\n",
      "92th iteration,\t  Threshold:  0.00009,\t   Loss:  0.00044\n"
     ]
    },
    {
     "data": {
      "image/png": "[encoded data removed]",
      "text/plain": [
       "<Figure size 432x288 with 1 Axes>"
      ]
     },
     "metadata": {
      "needs_background": "light"
     },
     "output_type": "display_data"
    },
    {
     "name": "stdout",
     "output_type": "stream",
     "text": [
      "relative error between converged and analytical solution is: 0.0016056618509226518\n"
     ]
    }
   ],
   "source": [
    "#5 - Ridge Regression Gradient Descent\n",
    "\n",
    "# Define dimensions\n",
    "N = 5000 # samples\n",
    "d = 1000 # features\n",
    "\n",
    "# Initialize X matrix to be zero mean, std 1.0 ie unit variance, and Nxd in size\n",
    "X = np.random.normal(loc=0.0, scale=1.0, size=(N,d))\n",
    "\n",
    "# Initialize w* as a random initialization dx1, zero mean and unit variance\n",
    "w_star= np.random.normal(loc=0.0, scale=1.0, size=d) # Gaussian distribution\n",
    "w0 = np.random.random(size=d) # random initialization\n",
    "\n",
    "# y = Xw*\n",
    "y = np.dot(X,w_star)\n",
    "\n",
    "iteration_count = 0 \n",
    "learning_rate = 0.15 # lr\n",
    "lambda_ = 0.001 # l2 lambda penalty scalar\n",
    "threshold = 1 # temp value for first while\n",
    "iterative_loss = [] # list to hold the loss per iteration\n",
    "\n",
    "# initialize w_hat to random w0\n",
    "w_hat = w0\n",
    "\n",
    "# gradient descent\n",
    "while threshold > 0.0001: # stopping criteria 10e-5 instead of 10e-3 (lowers relative error to be ~0.0017)\n",
    "    # calculate new gradient vector\n",
    "    grad = gradient(X,y,w_hat)\n",
    "    # update the weight vector, assign to a temporary value to compute threshold\n",
    "    w_new = w_hat - (learning_rate*grad)\n",
    "    # compute threshold as l1 norm of the difference of the vectors\n",
    "    threshold = np.sum(abs(w_new-w_hat)) / np.sum(abs(w_hat))\n",
    "    # update the weights vector with the temp vector\n",
    "    w_hat[:] = w_new[:]\n",
    "    # calculate loss \n",
    "    iterative_loss.append(calc_loss(X,y,w_hat))\n",
    "    # print stats\n",
    "    print(f'{iteration_count}th iteration,\\t  Threshold: {threshold: .5f},\\t   Loss: {iterative_loss[iteration_count]: .5f}')\n",
    "    iteration_count+=1\n",
    "    \n",
    "# plot the loss against the iterations\n",
    "x_range = np.arange(0, iteration_count)\n",
    "plt.plot(x_range, iterative_loss)\n",
    "plt.xlabel('iterations')\n",
    "plt.ylabel('loss')\n",
    "plt.show()\n",
    "    \n",
    "# Use the analytical approach to get w_analytical for comparison with w\n",
    "w_analytical = analytical(X,y)\n",
    "\n",
    "# calculate relative error between analytical solution and gradient descent solution\n",
    "relative_error = rel_err(w_analytical, w_hat)\n",
    "print(f'relative error between converged and analytical solution is: {relative_error}')"
   ]
  },
  {
   "cell_type": "code",
   "execution_count": 48,
   "id": "75c0da14",
   "metadata": {},
   "outputs": [
    {
     "data": {
      "image/png": "[encoded data removed]",
      "text/plain": [
       "<Figure size 432x288 with 1 Axes>"
      ]
     },
     "metadata": {
      "needs_background": "light"
     },
     "output_type": "display_data"
    },
    {
     "data": {
      "image/png": "[encoded data removed]",
      "text/plain": [
       "<Figure size 432x288 with 1 Axes>"
      ]
     },
     "metadata": {
      "needs_background": "light"
     },
     "output_type": "display_data"
    },
    {
     "data": {
      "text/plain": [
       "' \\nThe top plot shows the number of non-zeros vs the lambda values.\\nAs shown in the plot, the number of non-zero values takes a big decrease when going from 10e-1 \\nto 10e0, ie when the parameter lambda goes from 1 to 10 the number of zeros increases significantly!\\n\\nTaking a deeper look, in the second graph we can actually see the smooth curve \\non the numbers in the range from 1-10! \\n'"
      ]
     },
     "execution_count": 48,
     "metadata": {},
     "output_type": "execute_result"
    }
   ],
   "source": [
    "# 6 - Lasso Sparsity\n",
    "\n",
    "from sklearn.linear_model import Lasso\n",
    "\n",
    "def lams(lambdas,a):\n",
    "    for i in range(len(lambdas)):\n",
    "        model = Lasso(alpha=lambdas[i]).fit(X,y) # fit with current iteration of lamda value\n",
    "        w_hat_lambda.append(model.coef_) # grab the parameters / weights\n",
    "\n",
    "    non_zeros_per_lambda = [] # list to hold number of nonzeros per lambda\n",
    "    for i in range(len(w_hat_lambda)):\n",
    "        non_zeros_per_lambda.append(np.count_nonzero(w_hat_lambda[i])) #use numpy function count nonzero \n",
    "\n",
    "    # plot\n",
    "    x_range = np.arange(0, i) # generate the x axis of length i \n",
    "    plt.plot(lambdas, non_zeros_per_lambda)\n",
    "    plt.xscale('log')\n",
    "    plt.xlabel('lambdas')\n",
    "    plt.ylabel('non-zero count')\n",
    "    plt.title('wide search of lambdas') if a else plt.title('fine search of lambdas')\n",
    "    plt.show()\n",
    "\n",
    "lambda_1 = [10e-6, 10e-5, 10e-4, 10e-3, 10e-2, 10e-1, 10e1, 10e2, 10e3]\n",
    "w_hat_lambda = [] # list of lists that hold weights per iteration\n",
    "lams(lambda_1,True) # pass the lambas and a bool to indicate which plot it is for title \n",
    "\n",
    "lambda_2 = np.arange(1,10,.5) # use arange to get a fine range 1-10 in steps of 0.5\n",
    "w_hat_lambda = []\n",
    "lams(lambda_2,False)\n",
    "''' \n",
    "The top plot shows the number of non-zeros vs the lambda values.\n",
    "As shown in the plot, the number of non-zero values takes a big decrease when going from 10e-1 \n",
    "to 10e0, ie when the parameter lambda goes from 1 to 10 the number of zeros increases significantly!\n",
    "\n",
    "Taking a deeper look, in the second graph we can actually see the smooth curve \n",
    "on the numbers in the range from 1-10! \n",
    "'''\n"
   ]
  }
 ],
 "metadata": {
  "kernelspec": {
   "display_name": "Python 3 (ipykernel)",
   "language": "python",
   "name": "python3"
  },
  "language_info": {
   "codemirror_mode": {
    "name": "ipython",
    "version": 3
   },
   "file_extension": ".py",
   "mimetype": "text/x-python",
   "name": "python",
   "nbconvert_exporter": "python",
   "pygments_lexer": "ipython3",
   "version": "3.9.7"
  }
 },
 "nbformat": 4,
 "nbformat_minor": 5
}
